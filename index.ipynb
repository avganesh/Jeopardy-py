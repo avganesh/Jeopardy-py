{
 "cells": [
  {
   "cell_type": "code",
   "execution_count": null,
   "metadata": {
    "collapsed": false
   },
   "outputs": [],
   "source": [
    "import pandas as pd \n",
    "import random\n",
    "q_df = pd.read_json('JEOPARDY_QUESTIONS1.json')\n",
    "q_df['value'] = q_df['value'].str.replace('$', '')\n",
    "q_df['value'] = q_df['value'].str.replace(',', '')\n",
    "q_df.dropna(inplace=True)\n",
    "q_df['value'] = q_df['value'].astype(int)\n",
    "#print(q_df.head())\n",
    "#print(q_df.shape)\n",
    "#print(q_df[q_df.isnull().any(axis=1)])\n"
   ]
  },
  {
   "cell_type": "code",
   "execution_count": null,
   "metadata": {
    "collapsed": false
   },
   "outputs": [],
   "source": [
    "rounds = input(\"How many rounds do you want to play? \")\n",
    "score = 0\n",
    "for x in range(0, int(rounds)):\n",
    "    num = random.randrange(1,216929) \n",
    "    print(q_df.iloc[num][['category','value']].values)\n",
    "    answer = input(q_df.iloc[num]['question'] + \" \")\n",
    "    if (answer == q_df.iloc[num]['answer']):\n",
    "        print(\"you got it! \"+ q_df.iloc[num]['answer'])\n",
    "        score = score + q_df.iloc[num]['value']\n",
    "    else:\n",
    "        print(\"no the correct answer is \"+ q_df.iloc[num]['answer'])\n",
    "        score = score - q_df.iloc[num]['value']\n",
    "    print(\"Your score is \"+ str(score))"
   ]
  },
  {
   "cell_type": "code",
   "execution_count": null,
   "metadata": {
    "collapsed": true
   },
   "outputs": [],
   "source": []
  }
 ],
 "metadata": {
  "kernelspec": {
   "display_name": "Python 3",
   "language": "python",
   "name": "python3"
  },
  "language_info": {
   "codemirror_mode": {
    "name": "ipython",
    "version": 3
   },
   "file_extension": ".py",
   "mimetype": "text/x-python",
   "name": "python",
   "nbconvert_exporter": "python",
   "pygments_lexer": "ipython3",
   "version": "3.5.2"
  }
 },
 "nbformat": 4,
 "nbformat_minor": 2
}
